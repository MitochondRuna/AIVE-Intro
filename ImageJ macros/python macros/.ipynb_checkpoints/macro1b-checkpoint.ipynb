{
 "cells": [
  {
   "cell_type": "markdown",
   "id": "5e3624da",
   "metadata": {},
   "source": [
    "## Multi-Method 3D Blur Processing: Gaussian, Mean, and Median for TIFF Files "
   ]
  },
  {
   "cell_type": "code",
   "execution_count": 1,
   "id": "c5ad837f",
   "metadata": {},
   "outputs": [
    {
     "data": {
      "application/vnd.jupyter.widget-view+json": {
       "model_id": "5758b79596d84595853f1339a756bb02",
       "version_major": 2,
       "version_minor": 0
      },
      "text/plain": [
       "Button(description='Select File and Directory', style=ButtonStyle())"
      ]
     },
     "metadata": {},
     "output_type": "display_data"
    },
    {
     "data": {
      "application/vnd.jupyter.widget-view+json": {
       "model_id": "aed327ee1d0d47c0a44892b385020648",
       "version_major": 2,
       "version_minor": 0
      },
      "text/plain": [
       "Dropdown(description='Blur Type:', options=('Gaussian', 'Mean', 'Median'), value='Gaussian')"
      ]
     },
     "metadata": {},
     "output_type": "display_data"
    },
    {
     "data": {
      "application/vnd.jupyter.widget-view+json": {
       "model_id": "cae5d163830d43529d45d433a4c5a127",
       "version_major": 2,
       "version_minor": 0
      },
      "text/plain": [
       "IntText(value=3, description='Blur Radius X')"
      ]
     },
     "metadata": {},
     "output_type": "display_data"
    },
    {
     "data": {
      "application/vnd.jupyter.widget-view+json": {
       "model_id": "500cb2b8a27e498a8006fadecebc7581",
       "version_major": 2,
       "version_minor": 0
      },
      "text/plain": [
       "IntText(value=3, description='Blur Radius Y')"
      ]
     },
     "metadata": {},
     "output_type": "display_data"
    },
    {
     "data": {
      "application/vnd.jupyter.widget-view+json": {
       "model_id": "abbbc5683a164a008086b09284fd3ef2",
       "version_major": 2,
       "version_minor": 0
      },
      "text/plain": [
       "IntText(value=1, description='Blur Radius Z')"
      ]
     },
     "metadata": {},
     "output_type": "display_data"
    },
    {
     "data": {
      "application/vnd.jupyter.widget-view+json": {
       "model_id": "4e8586919425455cac2f8a706e08a208",
       "version_major": 2,
       "version_minor": 0
      },
      "text/plain": [
       "IntText(value=3, description='Kernel Size', layout=Layout(display='none'))"
      ]
     },
     "metadata": {},
     "output_type": "display_data"
    },
    {
     "data": {
      "application/vnd.jupyter.widget-view+json": {
       "model_id": "5ace7606e7d24f36aaafa6cc2d8eb3b6",
       "version_major": 2,
       "version_minor": 0
      },
      "text/plain": [
       "Button(description='Start Blurring', style=ButtonStyle())"
      ]
     },
     "metadata": {},
     "output_type": "display_data"
    },
    {
     "name": "stdout",
     "output_type": "stream",
     "text": [
      "Input File: /Users/sptsai/Documents/GitHub/WEHI-AIVE-internship/ImageJ macros/test data and expected outputs/Macro1Output_binarySplit/HeLa-model2_01.tif\n",
      "Output Directory: /Users/sptsai/Desktop\n",
      "Loaded 3D image with shape: (149, 500, 500)\n",
      "Applied Gaussian blur with sigma_x=3, sigma_y=3, sigma_z=1\n",
      "Saved multi-page TIFF: /Users/sptsai/Desktop/HeLa-model2_01_gaussian_blur.tif\n",
      "Blurring completed.\n"
     ]
    }
   ],
   "source": [
    "import os\n",
    "import cv2\n",
    "import numpy as np\n",
    "from PIL import Image, ImageSequence, UnidentifiedImageError\n",
    "from ipywidgets import widgets\n",
    "from tkinter import Tk, filedialog, messagebox\n",
    "from scipy.ndimage import gaussian_filter, median_filter\n",
    "\n",
    "# Function to select a file using tkinter\n",
    "def select_file(prompt=\"Select .tif File\"):\n",
    "    root = Tk()\n",
    "    root.withdraw()  # Hide the root window\n",
    "    file = filedialog.askopenfilename(title=prompt, filetypes=[(\"TIFF files\", \"*.tif\")])\n",
    "    root.update()\n",
    "    return file\n",
    "\n",
    "# Function to select directory using tkinter\n",
    "def select_directory(prompt=\"Select Directory\"):\n",
    "    root = Tk()\n",
    "    root.withdraw()  # Hide the root window\n",
    "    folder = filedialog.askdirectory(title=prompt)\n",
    "    root.update()\n",
    "    return folder\n",
    "\n",
    "# Apply 3D Gaussian blur to a 3D image with different radii for x, y, and z axes\n",
    "def apply_3d_gaussian_blur(image_array, blur_radius_x, blur_radius_y, blur_radius_z):\n",
    "    # Handle anisotropic voxel blur, scale different axes as per voxel sizes\n",
    "    blurred = gaussian_filter(image_array, sigma=(blur_radius_z, blur_radius_y, blur_radius_x))\n",
    "    return np.clip(blurred, 0, 255).astype(np.uint8)\n",
    "\n",
    "# Apply 3D Median blur\n",
    "def apply_3d_median_blur(image_array, kernel_size_x, kernel_size_y, kernel_size_z):\n",
    "    blurred = median_filter(image_array, size=(kernel_size_z, kernel_size_y, kernel_size_x))\n",
    "    return np.clip(blurred, 0, 255).astype(np.uint8)\n",
    "\n",
    "# Apply 3D Mean blur\n",
    "def apply_3d_mean_blur(image_array, kernel_size_x, kernel_size_y, kernel_size_z):\n",
    "    blurred = cv2.blur(image_array, (kernel_size_x, kernel_size_y))\n",
    "    return np.clip(blurred, 0, 255).astype(np.uint8)\n",
    "\n",
    "# Save processed images (frames) as a multi-page TIFF\n",
    "def save_image(frames, output_dir, file_name, suffix):\n",
    "    output_path = os.path.join(output_dir, f\"{file_name}_{suffix}.tif\")\n",
    "    frames[0].save(output_path, save_all=True, append_images=frames[1:])\n",
    "    print(f\"Saved multi-page TIFF: {output_path}\")\n",
    "\n",
    "# Process 3D TIFF file for blurring with enhanced error handling\n",
    "def process_file_blur(file_path, output_dir, blur_type, blur_radius_x=0, blur_radius_y=0, blur_radius_z=0, kernel_size=3):\n",
    "    # Check if the file has a .tif extension\n",
    "    if not file_path.lower().endswith('.tif'):\n",
    "        messagebox.showerror(\"Invalid File\", \"Selected file is not a .tif file.\")\n",
    "        print(f\"Skipping non-.tif file: {file_path}\")\n",
    "        return\n",
    "\n",
    "    try:\n",
    "        with Image.open(file_path) as img:\n",
    "            if img.format != 'TIFF':\n",
    "                messagebox.showerror(\"Invalid File\", \"Selected file is not a valid TIFF image.\")\n",
    "                print(f\"File {file_path} is not a valid TIFF image. Skipping.\")\n",
    "                return\n",
    "            \n",
    "            # Load 3D image (stack of frames)\n",
    "            frames = [np.array(frame) for frame in ImageSequence.Iterator(img)]\n",
    "            image_3d_array = np.stack(frames)  # Stack frames into a 3D array (Z, Y, X)\n",
    "            print(f\"Loaded 3D image with shape: {image_3d_array.shape}\")\n",
    "\n",
    "            # Apply selected blur method\n",
    "            if blur_type == \"Gaussian\":\n",
    "                blurred_image_3d = apply_3d_gaussian_blur(image_3d_array, blur_radius_x, blur_radius_y, blur_radius_z)\n",
    "                print(f\"Applied Gaussian blur with sigma_x={blur_radius_x}, sigma_y={blur_radius_y}, sigma_z={blur_radius_z}\")\n",
    "            elif blur_type == \"Median\":\n",
    "                blurred_image_3d = apply_3d_median_blur(image_3d_array, kernel_size, kernel_size, kernel_size_z=kernel_size)\n",
    "                print(f\"Applied Median blur with kernel size={kernel_size}\")\n",
    "            elif blur_type == \"Mean\":\n",
    "                blurred_image_3d = apply_3d_mean_blur(image_3d_array, kernel_size, kernel_size, kernel_size)\n",
    "                print(f\"Applied Mean blur with kernel size={kernel_size}\")\n",
    "\n",
    "            # Convert back to PIL Image sequence\n",
    "            blurred_frames = [Image.fromarray(blurred_image_3d[i, :, :]) for i in range(blurred_image_3d.shape[0])]\n",
    "            \n",
    "            # Save blurred 3D TIFF image\n",
    "            file_name = os.path.splitext(os.path.basename(file_path))[0]\n",
    "            save_image(blurred_frames, output_dir, file_name, f\"{blur_type.lower()}_blur\")\n",
    "    except FileNotFoundError:\n",
    "        print(f\"Error: The file {file_path} was not found.\")\n",
    "    except PermissionError:\n",
    "        print(f\"Error: Permission denied for file {file_path}.\")\n",
    "    except MemoryError:\n",
    "        print(\"Error: Not enough memory to process the image.\")\n",
    "    except UnidentifiedImageError:\n",
    "        print(f\"Error: The file {file_path} is not a valid image.\")\n",
    "    except IOError as e:\n",
    "        print(f\"File {file_path} cannot be opened: {e}\")\n",
    "    except Exception as e:\n",
    "        print(f\"Unexpected error processing file {file_path}: {e}\")\n",
    "\n",
    "# Select input/output directories and set blur parameters\n",
    "input_file = \"\"\n",
    "output_dir = \"\"\n",
    "\n",
    "# Function to select input file and output directory\n",
    "def select_file_and_dir():\n",
    "    global input_file, output_dir\n",
    "    input_file = select_file(\"Select .tif File\")\n",
    "    if input_file:\n",
    "        output_dir = select_directory(\"Select Output Directory\")\n",
    "        print(f\"Input File: {input_file}\")\n",
    "        print(f\"Output Directory: {output_dir}\")\n",
    "\n",
    "# Function to start blurring process\n",
    "def start_blurring(blur_type, blur_radius_x, blur_radius_y, blur_radius_z, kernel_size):\n",
    "    if input_file and output_dir:\n",
    "        process_file_blur(input_file, output_dir, blur_type, blur_radius_x, blur_radius_y, blur_radius_z, kernel_size)\n",
    "        print(\"Blurring completed.\")\n",
    "    else:\n",
    "        print(\"Please select input file and output directory first.\")\n",
    "\n",
    "# Widget for selecting file and directories\n",
    "file_dir_selector = widgets.Button(description=\"Select File and Directory\")\n",
    "file_dir_selector.on_click(lambda x: select_file_and_dir())\n",
    "\n",
    "# Widgets for blurring\n",
    "blur_type_dropdown = widgets.Dropdown(\n",
    "    options=[\"Gaussian\", \"Mean\", \"Median\"],\n",
    "    value=\"Gaussian\",\n",
    "    description=\"Blur Type:\",\n",
    ")\n",
    "\n",
    "blur_x_input = widgets.IntText(value=3, description=\"Blur Radius X\")\n",
    "blur_y_input = widgets.IntText(value=3, description=\"Blur Radius Y\")\n",
    "blur_z_input = widgets.IntText(value=1, description=\"Blur Radius Z\")  # Z-axis control\n",
    "\n",
    "# Initially hide Kernel Size input\n",
    "kernel_size_input = widgets.IntText(value=3, description=\"Kernel Size\", layout=widgets.Layout(display='none'))\n",
    "\n",
    "blur_button = widgets.Button(description=\"Start Blurring\")\n",
    "\n",
    "# Function to lock/unlock kernel size based on blur type and hide/show it\n",
    "def update_kernel_size_visibility(change):\n",
    "    if change['new'] == \"Gaussian\":\n",
    "        kernel_size_input.layout.display = 'none'  # Hide kernel size for Gaussian\n",
    "    else:\n",
    "        kernel_size_input.layout.display = 'block'  # Show kernel size for Mean/Median\n",
    "\n",
    "# Add observer to blur_type_dropdown to monitor changes\n",
    "blur_type_dropdown.observe(update_kernel_size_visibility, names='value')\n",
    "\n",
    "# Set the blurring function to run when the blur button is clicked\n",
    "blur_button.on_click(lambda x: start_blurring(\n",
    "    blur_type_dropdown.value,\n",
    "    blur_x_input.value if blur_type_dropdown.value == \"Gaussian\" else 0,\n",
    "    blur_y_input.value if blur_type_dropdown.value == \"Gaussian\" else 0,\n",
    "    blur_z_input.value if blur_type_dropdown.value == \"Gaussian\" else 0,\n",
    "    kernel_size_input.value if blur_type_dropdown.value in [\"Mean\", \"Median\"] else 3\n",
    "))\n",
    "\n",
    "# Display widgets\n",
    "display(file_dir_selector, blur_type_dropdown, blur_x_input, blur_y_input, blur_z_input, kernel_size_input, blur_button)"
   ]
  },
  {
   "cell_type": "markdown",
   "id": "45a5ee9f",
   "metadata": {},
   "source": [
    "## Consider about Kernal Size in All Methods"
   ]
  },
  {
   "cell_type": "code",
   "execution_count": 2,
   "id": "5212aa67",
   "metadata": {},
   "outputs": [
    {
     "data": {
      "application/vnd.jupyter.widget-view+json": {
       "model_id": "acc786dd72804a0db4a791eee7c7ea56",
       "version_major": 2,
       "version_minor": 0
      },
      "text/plain": [
       "Button(description='Select File and Directory', style=ButtonStyle())"
      ]
     },
     "metadata": {},
     "output_type": "display_data"
    },
    {
     "data": {
      "application/vnd.jupyter.widget-view+json": {
       "model_id": "12ae9240649a4878855c3ee78c1e48df",
       "version_major": 2,
       "version_minor": 0
      },
      "text/plain": [
       "Dropdown(description='Blur Type:', options=('Gaussian', 'Mean', 'Median'), value='Gaussian')"
      ]
     },
     "metadata": {},
     "output_type": "display_data"
    },
    {
     "data": {
      "application/vnd.jupyter.widget-view+json": {
       "model_id": "576c41a026ff4d4b98c11519e9ebea5b",
       "version_major": 2,
       "version_minor": 0
      },
      "text/plain": [
       "IntText(value=3, description='Blur Radius X')"
      ]
     },
     "metadata": {},
     "output_type": "display_data"
    },
    {
     "data": {
      "application/vnd.jupyter.widget-view+json": {
       "model_id": "f44d5b92d540475d9f40941c5edcd0ec",
       "version_major": 2,
       "version_minor": 0
      },
      "text/plain": [
       "IntText(value=3, description='Blur Radius Y')"
      ]
     },
     "metadata": {},
     "output_type": "display_data"
    },
    {
     "data": {
      "application/vnd.jupyter.widget-view+json": {
       "model_id": "8a9323de568d45b89c621395309d82e5",
       "version_major": 2,
       "version_minor": 0
      },
      "text/plain": [
       "IntText(value=1, description='Blur Radius Z')"
      ]
     },
     "metadata": {},
     "output_type": "display_data"
    },
    {
     "data": {
      "application/vnd.jupyter.widget-view+json": {
       "model_id": "540423455db2426790b33d1fc89a307a",
       "version_major": 2,
       "version_minor": 0
      },
      "text/plain": [
       "IntText(value=3, description='Kernel Size')"
      ]
     },
     "metadata": {},
     "output_type": "display_data"
    },
    {
     "data": {
      "application/vnd.jupyter.widget-view+json": {
       "model_id": "23abe0413c644099bcad0a8ddddc99ba",
       "version_major": 2,
       "version_minor": 0
      },
      "text/plain": [
       "Button(description='Start Blurring', style=ButtonStyle())"
      ]
     },
     "metadata": {},
     "output_type": "display_data"
    },
    {
     "name": "stdout",
     "output_type": "stream",
     "text": [
      "Input File: /Users/sptsai/Documents/GitHub/WEHI-AIVE-internship/ImageJ macros/test data and expected outputs/Macro1Output_binarySplit/HeLa-model2_01.tif\n",
      "Output Directory: /Users/sptsai/Desktop\n",
      "Loaded 3D image with shape: (149, 500, 500)\n",
      "Applied Gaussian blur with sigma_x=3, sigma_y=3, sigma_z=1\n",
      "Saved multi-page TIFF: /Users/sptsai/Desktop/HeLa-model2_01_gaussian_blur.tif\n",
      "Blurring completed.\n"
     ]
    }
   ],
   "source": [
    "import os\n",
    "import cv2\n",
    "import numpy as np\n",
    "from PIL import Image, ImageSequence, UnidentifiedImageError\n",
    "from ipywidgets import widgets\n",
    "from tkinter import Tk, filedialog, messagebox\n",
    "from scipy.ndimage import gaussian_filter\n",
    "from scipy.ndimage import median_filter\n",
    "from cv2 import blur\n",
    "\n",
    "# Function to select a file using tkinter\n",
    "def select_file(prompt=\"Select .tif File\"):\n",
    "    root = Tk()\n",
    "    root.withdraw()  # Hide the root window\n",
    "    file = filedialog.askopenfilename(title=prompt, filetypes=[(\"TIFF files\", \"*.tif\")])\n",
    "    root.update()\n",
    "    return file\n",
    "\n",
    "# Function to select directory using tkinter\n",
    "def select_directory(prompt=\"Select Directory\"):\n",
    "    root = Tk()\n",
    "    root.withdraw()  # Hide the root window\n",
    "    folder = filedialog.askdirectory(title=prompt)\n",
    "    root.update()\n",
    "    return folder\n",
    "\n",
    "# Apply 3D Gaussian blur to a 3D image with different radii for x, y, and z axes\n",
    "def apply_3d_gaussian_blur(image_array, blur_radius_x, blur_radius_y, blur_radius_z):\n",
    "    blurred = gaussian_filter(image_array, sigma=(blur_radius_z, blur_radius_y, blur_radius_x))\n",
    "    return np.clip(blurred, 0, 255).astype(np.uint8)\n",
    "\n",
    "# Apply 3D Median blur\n",
    "def apply_3d_median_blur(image_array, kernel_size):\n",
    "    blurred = median_filter(image_array, size=kernel_size)\n",
    "    return np.clip(blurred, 0, 255).astype(np.uint8)\n",
    "\n",
    "# Apply 3D Mean blur\n",
    "def apply_3d_mean_blur(image_array, kernel_size):\n",
    "    blurred = cv2.blur(image_array, (kernel_size, kernel_size, kernel_size))\n",
    "    return np.clip(blurred, 0, 255).astype(np.uint8)\n",
    "\n",
    "# Save processed images (frames) as a multi-page TIFF\n",
    "def save_image(frames, output_dir, file_name, suffix):\n",
    "    output_path = os.path.join(output_dir, f\"{file_name}_{suffix}.tif\")\n",
    "    frames[0].save(output_path, save_all=True, append_images=frames[1:])\n",
    "    print(f\"Saved multi-page TIFF: {output_path}\")\n",
    "\n",
    "# Process 3D TIFF file for blurring with enhanced error handling\n",
    "def process_file_blur(file_path, output_dir, blur_type, blur_radius_x=0, blur_radius_y=0, blur_radius_z=0, kernel_size=3):\n",
    "    # Check if the file has a .tif extension\n",
    "    if not file_path.lower().endswith('.tif'):\n",
    "        messagebox.showerror(\"Invalid File\", \"Selected file is not a .tif file.\")\n",
    "        print(f\"Skipping non-.tif file: {file_path}\")\n",
    "        return\n",
    "\n",
    "    try:\n",
    "        with Image.open(file_path) as img:\n",
    "            if img.format != 'TIFF':\n",
    "                messagebox.showerror(\"Invalid File\", \"Selected file is not a valid TIFF image.\")\n",
    "                print(f\"File {file_path} is not a valid TIFF image. Skipping.\")\n",
    "                return\n",
    "            \n",
    "            # Load 3D image (stack of frames)\n",
    "            frames = [np.array(frame) for frame in ImageSequence.Iterator(img)]\n",
    "            image_3d_array = np.stack(frames)  # Stack frames into a 3D array (Z, Y, X)\n",
    "            print(f\"Loaded 3D image with shape: {image_3d_array.shape}\")\n",
    "\n",
    "            # Apply selected blur method\n",
    "            if blur_type == \"Gaussian\":\n",
    "                blurred_image_3d = apply_3d_gaussian_blur(image_3d_array, blur_radius_x, blur_radius_y, blur_radius_z)\n",
    "                print(f\"Applied Gaussian blur with sigma_x={blur_radius_x}, sigma_y={blur_radius_y}, sigma_z={blur_radius_z}\")\n",
    "            elif blur_type == \"Median\":\n",
    "                blurred_image_3d = apply_3d_median_blur(image_3d_array, kernel_size)\n",
    "                print(f\"Applied Median blur with kernel size={kernel_size}\")\n",
    "            elif blur_type == \"Mean\":\n",
    "                blurred_image_3d = apply_3d_mean_blur(image_3d_array, kernel_size)\n",
    "                print(f\"Applied Mean blur with kernel size={kernel_size}\")\n",
    "\n",
    "            # Convert back to PIL Image sequence\n",
    "            blurred_frames = [Image.fromarray(blurred_image_3d[i, :, :]) for i in range(blurred_image_3d.shape[0])]\n",
    "            \n",
    "            # Save blurred 3D TIFF image\n",
    "            file_name = os.path.splitext(os.path.basename(file_path))[0]\n",
    "            save_image(blurred_frames, output_dir, file_name, f\"{blur_type.lower()}_blur\")\n",
    "    except FileNotFoundError:\n",
    "        print(f\"Error: The file {file_path} was not found.\")\n",
    "    except PermissionError:\n",
    "        print(f\"Error: Permission denied for file {file_path}.\")\n",
    "    except MemoryError:\n",
    "        print(\"Error: Not enough memory to process the image.\")\n",
    "    except UnidentifiedImageError:\n",
    "        print(f\"Error: The file {file_path} is not a valid image.\")\n",
    "    except IOError as e:\n",
    "        print(f\"File {file_path} cannot be opened: {e}\")\n",
    "    except Exception as e:\n",
    "        print(f\"Unexpected error processing file {file_path}: {e}\")\n",
    "\n",
    "# Select input/output directories and set blur parameters\n",
    "input_file = \"\"\n",
    "output_dir = \"\"\n",
    "\n",
    "# Function to select input file and output directory\n",
    "def select_file_and_dir():\n",
    "    global input_file, output_dir\n",
    "    input_file = select_file(\"Select .tif File\")\n",
    "    if input_file:\n",
    "        output_dir = select_directory(\"Select Output Directory\")\n",
    "        print(f\"Input File: {input_file}\")\n",
    "        print(f\"Output Directory: {output_dir}\")\n",
    "\n",
    "# Function to start blurring process\n",
    "def start_blurring(blur_type, blur_radius_x, blur_radius_y, blur_radius_z, kernel_size):\n",
    "    if input_file and output_dir:\n",
    "        process_file_blur(input_file, output_dir, blur_type, blur_radius_x, blur_radius_y, blur_radius_z, kernel_size)\n",
    "        print(\"Blurring completed.\")\n",
    "    else:\n",
    "        print(\"Please select input file and output directory first.\")\n",
    "\n",
    "# Widget for selecting file and directories\n",
    "file_dir_selector = widgets.Button(description=\"Select File and Directory\")\n",
    "file_dir_selector.on_click(lambda x: select_file_and_dir())\n",
    "\n",
    "# Widgets for blurring\n",
    "blur_type_dropdown = widgets.Dropdown(\n",
    "    options=[\"Gaussian\", \"Mean\", \"Median\"],\n",
    "    value=\"Gaussian\",\n",
    "    description=\"Blur Type:\",\n",
    ")\n",
    "\n",
    "blur_x_input = widgets.IntText(value=3, description=\"Blur Radius X\")\n",
    "blur_y_input = widgets.IntText(value=3, description=\"Blur Radius Y\")\n",
    "blur_z_input = widgets.IntText(value=1, description=\"Blur Radius Z\")  # Z-axis control\n",
    "\n",
    "# Initially hide Kernel Size input\n",
    "kernel_size_input = widgets.IntText(value=3, description=\"Kernel Size\", layout=widgets.Layout(display='none'))\n",
    "\n",
    "blur_button = widgets.Button(description=\"Start Blurring\")\n",
    "\n",
    "# Kernel Size input is now always visible\n",
    "kernel_size_input = widgets.IntText(value=3, description=\"Kernel Size\")\n",
    "\n",
    "blur_button = widgets.Button(description=\"Start Blurring\")\n",
    "\n",
    "# Set the blurring function to run when the blur button is clicked\n",
    "blur_button.on_click(lambda x: start_blurring(\n",
    "    blur_type_dropdown.value,\n",
    "    blur_x_input.value if blur_type_dropdown.value == \"Gaussian\" else 0,\n",
    "    blur_y_input.value if blur_type_dropdown.value == \"Gaussian\" else 0,\n",
    "    blur_z_input.value if blur_type_dropdown.value == \"Gaussian\" else 0,\n",
    "    kernel_size_input.value\n",
    "))\n",
    "\n",
    "# Display widgets\n",
    "display(file_dir_selector, blur_type_dropdown, blur_x_input, blur_y_input, blur_z_input, kernel_size_input, blur_button)"
   ]
  },
  {
   "cell_type": "markdown",
   "id": "b1ea520e",
   "metadata": {},
   "source": [
    "## Automated Flowchart Generation for 3D Image Blurring Process"
   ]
  },
  {
   "cell_type": "code",
   "execution_count": 16,
   "id": "1fe36193",
   "metadata": {},
   "outputs": [
    {
     "name": "stdout",
     "output_type": "stream",
     "text": [
      "Flowchart saved at: /Users/sptsai/Documents/GitHub/WEHI-AIVE-internship/ImageJ macros/Diagram/3d_blur_marco1b_flowchart.png\n"
     ]
    }
   ],
   "source": [
    "# !pip install graphviz\n",
    "import os\n",
    "from tkinter import Tk, filedialog\n",
    "from graphviz import Digraph\n",
    "\n",
    "# Function to select directory using tkinter\n",
    "def select_directory(prompt=\"Select Directory to Save Flowchart\"):\n",
    "    root = Tk()\n",
    "    root.withdraw()  # Hide the root window\n",
    "    folder = filedialog.askdirectory(title=prompt)\n",
    "    root.update()\n",
    "    return folder\n",
    "\n",
    "# Create flowchart\n",
    "flowchart = Digraph(comment=\"3D Image Blurring Process\")\n",
    "\n",
    "# Nodes for the flowchart\n",
    "flowchart.node('A', 'Select File (.tif)')\n",
    "flowchart.node('B', 'Select Directory')\n",
    "flowchart.node('C', 'Load 3D Image (TIFF Stack)')\n",
    "flowchart.node('D1', 'Gaussian Blur (with radius x, y, z)')\n",
    "flowchart.node('D2', 'Median Blur (with kernel size)')\n",
    "flowchart.node('D3', 'Mean Blur (with kernel size)')\n",
    "flowchart.node('E', 'Save Processed Image as TIFF')\n",
    "flowchart.node('F', 'Error Handling')\n",
    "\n",
    "# Add edges\n",
    "flowchart.edge('A', 'B', 'File Selected')\n",
    "flowchart.edge('B', 'C', 'Directory Selected')\n",
    "\n",
    "# Position the \"Blur Type\" labels on the left side of the arrows\n",
    "flowchart.edge('C', 'D1', label='Blur Type: Gaussian', labelloc='l', fontsize='10')\n",
    "flowchart.edge('C', 'D2', label='Blur Type: Median', labelloc='l', fontsize='10')\n",
    "flowchart.edge('C', 'D3', label='Blur Type: Mean', labelloc='l', fontsize='10')\n",
    "\n",
    "# Applying blur operations labels also on the left side of arrows\n",
    "flowchart.edge('D1', 'E', label='Gaussian Blur (with radius x, y, z)', labelloc='l', fontsize='10')\n",
    "flowchart.edge('D2', 'E', label='Median Blur (with kernel size)', labelloc='l', fontsize='10')\n",
    "flowchart.edge('D3', 'E', label='Mean Blur (with kernel size)', labelloc='l', fontsize='10')\n",
    "\n",
    "# Error Handling\n",
    "flowchart.edge('E', 'F', 'Check for Errors')\n",
    "\n",
    "# Ask user to select the directory to save the file\n",
    "output_dir = select_directory()\n",
    "\n",
    "# Check if a directory was selected\n",
    "if output_dir:\n",
    "    output_path = os.path.join(output_dir, \"3d_blur_marco1b_flowchart\")\n",
    "    flowchart.render(output_path, format='png')\n",
    "    print(f\"Flowchart saved at: {output_path}.png\")\n",
    "else:\n",
    "    print(\"No directory selected.\")"
   ]
  },
  {
   "cell_type": "markdown",
   "id": "070c72d0",
   "metadata": {},
   "source": [
    "## 3D Gaussian Blur for Multi-Page TIFF Files with Simple Interface"
   ]
  },
  {
   "cell_type": "code",
   "execution_count": 1,
   "id": "9a07fdc2",
   "metadata": {},
   "outputs": [
    {
     "data": {
      "application/vnd.jupyter.widget-view+json": {
       "model_id": "26276acff99542f3bee20027586b0687",
       "version_major": 2,
       "version_minor": 0
      },
      "text/plain": [
       "Button(description='Select File and Directory', style=ButtonStyle())"
      ]
     },
     "metadata": {},
     "output_type": "display_data"
    },
    {
     "data": {
      "application/vnd.jupyter.widget-view+json": {
       "model_id": "e44ae1f73ac84ffc9fd08fe21783f343",
       "version_major": 2,
       "version_minor": 0
      },
      "text/plain": [
       "IntSlider(value=5, description='Blur Radius X', max=50, min=1)"
      ]
     },
     "metadata": {},
     "output_type": "display_data"
    },
    {
     "data": {
      "application/vnd.jupyter.widget-view+json": {
       "model_id": "2cda6e2eb22046b9bbe207e2320fbb6f",
       "version_major": 2,
       "version_minor": 0
      },
      "text/plain": [
       "IntSlider(value=5, description='Blur Radius Y', max=50, min=1)"
      ]
     },
     "metadata": {},
     "output_type": "display_data"
    },
    {
     "data": {
      "application/vnd.jupyter.widget-view+json": {
       "model_id": "3b6708a182c7453689e0220d875d2791",
       "version_major": 2,
       "version_minor": 0
      },
      "text/plain": [
       "IntSlider(value=1, description='Blur Radius Z', max=50, min=1)"
      ]
     },
     "metadata": {},
     "output_type": "display_data"
    },
    {
     "data": {
      "application/vnd.jupyter.widget-view+json": {
       "model_id": "7fce600a440442ec9a20fdc80b8fbc71",
       "version_major": 2,
       "version_minor": 0
      },
      "text/plain": [
       "Button(description='Start Blurring', style=ButtonStyle())"
      ]
     },
     "metadata": {},
     "output_type": "display_data"
    },
    {
     "name": "stdout",
     "output_type": "stream",
     "text": [
      "Input File: /Users/sptsai/Desktop/unimelb/F1S2/intern/Organelle Segmentation/Test Data/Macro1Output_binarySplit/HeLa-model2_01.tif\n",
      "Output Directory: /Users/sptsai/Desktop\n",
      "Loaded 3D image with shape: (149, 500, 500)\n",
      "Applied 3D Gaussian blur with sigma_x=5, sigma_y=5, sigma_z=1\n",
      "Saved multi-page TIFF: /Users/sptsai/Desktop/HeLa-model2_01_blur_x5_y5_z1.tif\n",
      "Blurring completed.\n"
     ]
    }
   ],
   "source": [
    "import os\n",
    "import cv2\n",
    "import numpy as np\n",
    "from PIL import Image, ImageSequence, UnidentifiedImageError\n",
    "from ipywidgets import widgets\n",
    "from tkinter import Tk, filedialog, messagebox\n",
    "from scipy.ndimage import gaussian_filter\n",
    "\n",
    "# Function to select a file using tkinter\n",
    "def select_file(prompt=\"Select .tif File\"):\n",
    "    root = Tk()\n",
    "    root.withdraw()  # Hide the root window\n",
    "    file = filedialog.askopenfilename(title=prompt, filetypes=[(\"TIFF files\", \"*.tif\")])\n",
    "    root.update()\n",
    "    return file\n",
    "\n",
    "# Function to select directory using tkinter\n",
    "def select_directory(prompt=\"Select Directory\"):\n",
    "    root = Tk()\n",
    "    root.withdraw()  # Hide the root window\n",
    "    folder = filedialog.askdirectory(title=prompt)\n",
    "    root.update()\n",
    "    return folder\n",
    "\n",
    "# Apply 3D Gaussian blur to a 3D image with different radii for x, y, and z axes\n",
    "def apply_3d_blur(image_array, blur_radius_x, blur_radius_y, blur_radius_z):\n",
    "    # Apply Gaussian blur across x, y, and z dimensions\n",
    "    blurred = gaussian_filter(image_array, sigma=(blur_radius_z, blur_radius_y, blur_radius_x))\n",
    "    return np.clip(blurred, 0, 255).astype(np.uint8)\n",
    "\n",
    "# Save processed images (frames) as a multi-page TIFF\n",
    "def save_image(frames, output_dir, file_name, suffix):\n",
    "    output_path = os.path.join(output_dir, f\"{file_name}_{suffix}.tif\")\n",
    "    frames[0].save(output_path, save_all=True, append_images=frames[1:])\n",
    "    print(f\"Saved multi-page TIFF: {output_path}\")\n",
    "\n",
    "# Process 3D TIFF file for blurring with enhanced error handling\n",
    "def process_file_blur(file_path, output_dir, blur_radius_x, blur_radius_y, blur_radius_z):\n",
    "    # Check if the file has a .tif extension\n",
    "    if not file_path.lower().endswith('.tif'):\n",
    "        messagebox.showerror(\"Invalid File\", \"Selected file is not a .tif file.\")\n",
    "        print(f\"Skipping non-.tif file: {file_path}\")\n",
    "        return\n",
    "\n",
    "    try:\n",
    "        with Image.open(file_path) as img:\n",
    "            if img.format != 'TIFF':\n",
    "                messagebox.showerror(\"Invalid File\", \"Selected file is not a valid TIFF image.\")\n",
    "                print(f\"File {file_path} is not a valid TIFF image. Skipping.\")\n",
    "                return\n",
    "            \n",
    "            # Load 3D image (stack of frames)\n",
    "            frames = [np.array(frame) for frame in ImageSequence.Iterator(img)]\n",
    "            image_3d_array = np.stack(frames)  # Stack frames into a 3D array (Z, Y, X)\n",
    "            print(f\"Loaded 3D image with shape: {image_3d_array.shape}\")\n",
    "\n",
    "            # Apply 3D Gaussian blur\n",
    "            blurred_image_3d = apply_3d_blur(image_3d_array, blur_radius_x, blur_radius_y, blur_radius_z)\n",
    "            print(f\"Applied 3D Gaussian blur with sigma_x={blur_radius_x}, sigma_y={blur_radius_y}, sigma_z={blur_radius_z}\")\n",
    "\n",
    "            # Convert back to PIL Image sequence\n",
    "            blurred_frames = [Image.fromarray(blurred_image_3d[i, :, :]) for i in range(blurred_image_3d.shape[0])]\n",
    "            \n",
    "            # Save blurred 3D TIFF image\n",
    "            file_name = os.path.splitext(os.path.basename(file_path))[0]\n",
    "            save_image(blurred_frames, output_dir, file_name, f\"blur_x{blur_radius_x}_y{blur_radius_y}_z{blur_radius_z}\")\n",
    "    except FileNotFoundError:\n",
    "        print(f\"Error: The file {file_path} was not found.\")\n",
    "    except PermissionError:\n",
    "        print(f\"Error: Permission denied for file {file_path}.\")\n",
    "    except MemoryError:\n",
    "        print(\"Error: Not enough memory to process the image.\")\n",
    "    except UnidentifiedImageError:\n",
    "        print(f\"Error: The file {file_path} is not a valid image.\")\n",
    "    except IOError as e:\n",
    "        print(f\"File {file_path} cannot be opened: {e}\")\n",
    "    except Exception as e:\n",
    "        print(f\"Unexpected error processing file {file_path}: {e}\")\n",
    "\n",
    "# Select input/output directories and set blur radii\n",
    "input_file = \"\"\n",
    "output_dir = \"\"\n",
    "\n",
    "# Function to select input file and output directory\n",
    "def select_file_and_dir():\n",
    "    global input_file, output_dir\n",
    "    input_file = select_file(\"Select .tif File\")\n",
    "    if input_file:\n",
    "        output_dir = select_directory(\"Select Output Directory\")\n",
    "        print(f\"Input File: {input_file}\")\n",
    "        print(f\"Output Directory: {output_dir}\")\n",
    "\n",
    "# Function to start blurring process\n",
    "def start_blurring(blur_radius_x, blur_radius_y, blur_radius_z):\n",
    "    if input_file and output_dir:\n",
    "        process_file_blur(input_file, output_dir, blur_radius_x, blur_radius_y, blur_radius_z)\n",
    "        print(\"Blurring completed.\")\n",
    "    else:\n",
    "        print(\"Please select input file and output directory first.\")\n",
    "\n",
    "# Widget for selecting file and directories\n",
    "file_dir_selector = widgets.Button(description=\"Select File and Directory\")\n",
    "file_dir_selector.on_click(lambda x: select_file_and_dir())\n",
    "\n",
    "# Widgets for blurring\n",
    "blur_x_slider = widgets.IntSlider(value=3, min=1, max=50, step=1, description=\"Blur Radius X\")\n",
    "blur_y_slider = widgets.IntSlider(value=3, min=1, max=50, step=1, description=\"Blur Radius Y\")\n",
    "blur_z_slider = widgets.IntSlider(value=1, min=1, max=50, step=1, description=\"Blur Radius Z\")  # Z-axis control\n",
    "blur_button = widgets.Button(description=\"Start Blurring\")\n",
    "blur_button.on_click(lambda x: start_blurring(blur_x_slider.value, blur_y_slider.value, blur_z_slider.value))\n",
    "\n",
    "# Display widgets\n",
    "display(file_dir_selector, blur_x_slider, blur_y_slider, blur_z_slider, blur_button)"
   ]
  }
 ],
 "metadata": {
  "kernelspec": {
   "display_name": "Python 3 (ipykernel)",
   "language": "python",
   "name": "python3"
  },
  "language_info": {
   "codemirror_mode": {
    "name": "ipython",
    "version": 3
   },
   "file_extension": ".py",
   "mimetype": "text/x-python",
   "name": "python",
   "nbconvert_exporter": "python",
   "pygments_lexer": "ipython3",
   "version": "3.11.5"
  }
 },
 "nbformat": 4,
 "nbformat_minor": 5
}

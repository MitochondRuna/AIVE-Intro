{
 "cells": [
  {
   "cell_type": "code",
   "id": "4b5e5d19",
   "metadata": {
    "ExecuteTime": {
     "end_time": "2024-09-22T03:05:49.477638Z",
     "start_time": "2024-09-22T03:05:35.326580Z"
    }
   },
   "source": [
    "import os\n",
    "import cv2\n",
    "import numpy as np\n",
    "from tkinter import filedialog\n",
    "from tkinter import Tk\n",
    "from PIL import Image\n",
    "\n",
    "def open_file_dialog():\n",
    "    # Open dialog to select a file\n",
    "    root = Tk()\n",
    "    root.withdraw()  # Hide the root window\n",
    "    filepath = filedialog.askopenfilename(title=\"Open image file\")\n",
    "    return filepath\n",
    "\n",
    "def get_output_directory():\n",
    "    # Open dialog to select output directory\n",
    "    root = Tk()\n",
    "    root.withdraw()\n",
    "    directory = filedialog.askdirectory(title=\"Select output directory for MIB masks\")\n",
    "    return directory\n",
    "\n",
    "def load_image_stack(image_path):\n",
    "    # Load the 32-bit TIFF image stack using PIL\n",
    "    image = Image.open(image_path)\n",
    "    image_stack = []\n",
    "\n",
    "    try:\n",
    "        while True:\n",
    "            # Load each frame in the TIFF\n",
    "            frame = np.array(image)\n",
    "            image_stack.append(frame)\n",
    "            image.seek(image.tell() + 1)  # Move to next frame\n",
    "    except EOFError:\n",
    "        # End of file reached\n",
    "        pass\n",
    "\n",
    "    return image_stack\n",
    "\n",
    "def apply_threshold(image, value):\n",
    "    # Create a binary mask where the pixel value is equal to the given value\n",
    "    mask = cv2.inRange(image, np.array(value), np.array(value))\n",
    "    return mask\n",
    "\n",
    "def save_image_stack(image_stack, filename):\n",
    "    # Save the image stack as a multi-page TIFF\n",
    "    pil_images = [Image.fromarray(img) for img in image_stack]\n",
    "    pil_images[0].save(filename, save_all=True, append_images=pil_images[1:], compression=\"tiff_deflate\")\n",
    "\n",
    "def process_image(image_path, output_dir, prefix):\n",
    "    # Load the image stack (32-bit TIFF image)\n",
    "    image_stack = load_image_stack(image_path)\n",
    "\n",
    "    if len(image_stack) == 0:\n",
    "        print(\"Failed to load the image stack.\")\n",
    "        return\n",
    "\n",
    "    # Get unique pixel values in the image stack\n",
    "    unique_values = np.unique(image_stack)\n",
    "\n",
    "    # Process each unique pixel value\n",
    "    for value in unique_values:\n",
    "        # Create an empty list to store masks for each slice\n",
    "        mask_stack = []\n",
    "\n",
    "        # Apply the threshold to each slice in the stack\n",
    "        for image_slice in image_stack:\n",
    "            mask = apply_threshold(image_slice, value)\n",
    "            mask_stack.append(mask)\n",
    "\n",
    "        # Save the stack of masks as a multi-page TIFF\n",
    "        index = f\"{value:02d}\"  # Add leading zero for single-digit numbers\n",
    "        output_path = os.path.join(output_dir, f\"{prefix}_{index}.tif\")\n",
    "        save_image_stack(mask_stack, output_path)\n",
    "\n",
    "        print(f\"Saved: {output_path}\")\n",
    "\n",
    "def main():\n",
    "    # Step 1: Open the image file\n",
    "    image_path = open_file_dialog()\n",
    "\n",
    "    # Step 2: Ask for the filename prefix\n",
    "    prefix = input(\"Enter the desired filename prefix (default is 'default'): \") or \"default\"\n",
    "\n",
    "    # Step 3: Select output directory\n",
    "    output_dir = get_output_directory()\n",
    "\n",
    "    # Step 4: Process the image and save masks\n",
    "    process_image(image_path, output_dir, prefix)\n",
    "\n",
    "if __name__ == \"__main__\":\n",
    "    main()"
   ],
   "outputs": [
    {
     "name": "stderr",
     "output_type": "stream",
     "text": [
      "2024-09-22 13:05:35.619 Python[4636:43774] WARNING: Secure coding is not enabled for restorable state! Enable secure coding by implementing NSApplicationDelegate.applicationSupportsSecureRestorableState: and returning YES.\n"
     ]
    },
    {
     "name": "stdout",
     "output_type": "stream",
     "text": [
      "Saved: /Users/siyangc4/Downloads/default_00.tif\n",
      "Saved: /Users/siyangc4/Downloads/default_01.tif\n",
      "Saved: /Users/siyangc4/Downloads/default_02.tif\n",
      "Saved: /Users/siyangc4/Downloads/default_03.tif\n"
     ]
    }
   ],
   "execution_count": 1
  }
 ],
 "metadata": {
  "kernelspec": {
   "display_name": "Python 3 (ipykernel)",
   "language": "python",
   "name": "python3"
  },
  "language_info": {
   "codemirror_mode": {
    "name": "ipython",
    "version": 3
   },
   "file_extension": ".py",
   "mimetype": "text/x-python",
   "name": "python",
   "nbconvert_exporter": "python",
   "pygments_lexer": "ipython3",
   "version": "3.11.5"
  }
 },
 "nbformat": 4,
 "nbformat_minor": 5
}

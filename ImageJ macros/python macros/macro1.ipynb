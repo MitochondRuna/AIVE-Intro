{
 "cells": [
  {
   "cell_type": "code",
   "id": "4b5e5d19",
   "metadata": {
    "ExecuteTime": {
     "end_time": "2024-09-22T03:05:49.477638Z",
     "start_time": "2024-09-22T03:05:35.326580Z"
    }
   },
   "source": [
    "import imageio\n",
    "import numpy as np\n",
    "from skimage import io, filters\n",
    "from skimage.measure import regionprops, label\n",
    "from skimage.color import rgb2gray\n",
    "import os\n",
    "\n",
    "def z_project_max_intensity(image):\n",
    "    return np.max(image, axis=0)\n",
    "\n",
    "def process_image(target_file, output_dir, prefix, max_divisions):\n",
    "    # Load the image\n",
    "    image = imageio.imread(target_file)\n",
    "\n",
    "    # Perform Z projection (max intensity)\n",
    "    projected_image = z_project_max_intensity(image)\n",
    "\n",
    "    # Create a grayscale image if necessary\n",
    "    if len(projected_image.shape) == 3:\n",
    "        projected_image = rgb2gray(projected_image)\n",
    "\n",
    "    # Iterate over threshold divisions\n",
    "    for i in range(1, max_divisions + 1):\n",
    "        # Set the threshold\n",
    "        thresh = i\n",
    "        \n",
    "        # Create a binary mask\n",
    "        binary_mask = projected_image > thresh\n",
    "        \n",
    "        # Label connected components\n",
    "        labeled_mask = label(binary_mask)\n",
    "\n",
    "        # Optionally, you can compute statistics (e.g., area, mean) for each region\n",
    "        stats = regionprops(labeled_mask)\n",
    "\n",
    "        # Save the processed image\n",
    "        index = f\"{i:02}\"\n",
    "        output_file = os.path.join(output_dir, f\"{prefix}_{index}.tiff\")\n",
    "        io.imsave(output_file, labeled_mask.astype(np.uint8) * 255)  # Save as binary image\n",
    "\n",
    "    print(f\"Processed {max_divisions} files and saved to {output_dir}\")\n",
    "\n",
    "# Main execution\n",
    "if __name__ == \"__main__\":\n",
    "    # User input for the file and output directory\n",
    "    target_file = input(\"Enter the path to the image file: \")\n",
    "    output_dir = input(\"Enter the output directory for MIB masks: \")\n",
    "    prefix = input(\"Enter the desired filename prefix: \")\n",
    "\n",
    "    # Example for max_divisions based on the maximum pixel value\n",
    "    image = imageio.imread(target_file)\n",
    "    max_divisions = np.max(image)  # Determine the max threshold\n",
    "\n",
    "    process_image(target_file, output_dir, prefix, max_divisions)\n"
   ],
   "outputs": [
    {
     "name": "stderr",
     "output_type": "stream",
     "text": [
      "2024-09-22 13:05:35.619 Python[4636:43774] WARNING: Secure coding is not enabled for restorable state! Enable secure coding by implementing NSApplicationDelegate.applicationSupportsSecureRestorableState: and returning YES.\n"
     ]
    },
    {
     "name": "stdout",
     "output_type": "stream",
     "text": [
      "Saved: /Users/siyangc4/Downloads/default_00.tif\n",
      "Saved: /Users/siyangc4/Downloads/default_01.tif\n",
      "Saved: /Users/siyangc4/Downloads/default_02.tif\n",
      "Saved: /Users/siyangc4/Downloads/default_03.tif\n"
     ]
    }
   ],
   "execution_count": 1
  }
 ],
 "metadata": {
  "kernelspec": {
   "display_name": "Python 3 (ipykernel)",
   "language": "python",
   "name": "python3"
  },
  "language_info": {
   "codemirror_mode": {
    "name": "ipython",
    "version": 3
   },
   "file_extension": ".py",
   "mimetype": "text/x-python",
   "name": "python",
   "nbconvert_exporter": "python",
   "pygments_lexer": "ipython3",
   "version": "3.11.5"
  }
 },
 "nbformat": 4,
 "nbformat_minor": 5
}

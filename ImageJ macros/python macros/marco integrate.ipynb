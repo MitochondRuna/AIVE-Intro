{
 "cells": [
  {
   "cell_type": "code",
   "execution_count": 5,
   "id": "073ca6ba",
   "metadata": {},
   "outputs": [
    {
     "data": {
      "application/vnd.jupyter.widget-view+json": {
       "model_id": "4a2a73b8604d427a97878bbe87150d4b",
       "version_major": 2,
       "version_minor": 0
      },
      "text/plain": [
       "Button(description='Select File and Directory', style=ButtonStyle())"
      ]
     },
     "metadata": {},
     "output_type": "display_data"
    },
    {
     "data": {
      "application/vnd.jupyter.widget-view+json": {
       "model_id": "ef462dcfae794693a80218c3178e4e3c",
       "version_major": 2,
       "version_minor": 0
      },
      "text/plain": [
       "Dropdown(description='Blur Type:', options=('Gaussian', 'Mean', 'Median'), value='Gaussian')"
      ]
     },
     "metadata": {},
     "output_type": "display_data"
    },
    {
     "data": {
      "application/vnd.jupyter.widget-view+json": {
       "model_id": "8ce7f1956112402f80d1f46458b37cc9",
       "version_major": 2,
       "version_minor": 0
      },
      "text/plain": [
       "IntText(value=3, description='Blur Radius X')"
      ]
     },
     "metadata": {},
     "output_type": "display_data"
    },
    {
     "data": {
      "application/vnd.jupyter.widget-view+json": {
       "model_id": "d84ebb691429406492ad2d5729160b4e",
       "version_major": 2,
       "version_minor": 0
      },
      "text/plain": [
       "IntText(value=3, description='Blur Radius Y')"
      ]
     },
     "metadata": {},
     "output_type": "display_data"
    },
    {
     "data": {
      "application/vnd.jupyter.widget-view+json": {
       "model_id": "e21f38e11ef540929c17d6c8be0cba78",
       "version_major": 2,
       "version_minor": 0
      },
      "text/plain": [
       "IntText(value=1, description='Blur Radius Z')"
      ]
     },
     "metadata": {},
     "output_type": "display_data"
    },
    {
     "data": {
      "application/vnd.jupyter.widget-view+json": {
       "model_id": "896e2462bbcc420f864e4e221bb25e7b",
       "version_major": 2,
       "version_minor": 0
      },
      "text/plain": [
       "IntText(value=3, description='Kernel Size', layout=Layout(display='none'))"
      ]
     },
     "metadata": {},
     "output_type": "display_data"
    },
    {
     "data": {
      "application/vnd.jupyter.widget-view+json": {
       "model_id": "79c7d280ec0f416f8174d70142051fb9",
       "version_major": 2,
       "version_minor": 0
      },
      "text/plain": [
       "Button(description='Start Blurring', style=ButtonStyle())"
      ]
     },
     "metadata": {},
     "output_type": "display_data"
    }
   ],
   "source": [
    "import os\n",
    "import cv2\n",
    "import numpy as np\n",
    "from PIL import Image, ImageSequence, UnidentifiedImageError\n",
    "from ipywidgets import widgets\n",
    "from tkinter import Tk, filedialog, messagebox\n",
    "from scipy.ndimage import gaussian_filter, median_filter\n",
    "\n",
    "# Global variables for selected file and directory\n",
    "input_file = None\n",
    "output_dir = None\n",
    "\n",
    "# Function to select a file using tkinter\n",
    "def select_file(prompt=\"Select .tif File\"):\n",
    "    \"\"\"\n",
    "    Opens a file dialog for the user to select a .tif file. If a file has already been selected, it returns that file.\n",
    "\n",
    "    Args:\n",
    "        prompt (str): The prompt displayed in the file selection dialog.\n",
    "\n",
    "    Returns:\n",
    "        str: The file path of the selected file.\n",
    "    \"\"\"\n",
    "    global input_file\n",
    "    if not input_file:  # Select file only if not already selected\n",
    "        root = Tk()\n",
    "        root.withdraw()  # Hide the root window\n",
    "        input_file = filedialog.askopenfilename(title=prompt, filetypes=[(\"TIFF files\", \"*.tif\")])\n",
    "        root.update()\n",
    "    return input_file\n",
    "\n",
    "# Function to select a directory using tkinter\n",
    "def select_directory(prompt=\"Select Directory\"):\n",
    "    \"\"\"\n",
    "    Opens a directory selection dialog for the user to choose a folder. If a folder has already been selected, it returns that folder.\n",
    "\n",
    "    Args:\n",
    "        prompt (str): The prompt displayed in the directory selection dialog.\n",
    "\n",
    "    Returns:\n",
    "        str: The path of the selected directory.\n",
    "    \"\"\"\n",
    "    global output_dir\n",
    "    if not output_dir:  # Select directory only if not already selected\n",
    "        root = Tk()\n",
    "        root.withdraw()  # Hide the root window\n",
    "        output_dir = filedialog.askdirectory(title=prompt)\n",
    "        root.update()\n",
    "    return output_dir\n",
    "\n",
    "# Apply 3D Gaussian blur to a 3D image with different radii for x, y, and z axes\n",
    "def apply_3d_gaussian_blur(image_array, blur_radius_x, blur_radius_y, blur_radius_z):\n",
    "    \"\"\"\n",
    "    Applies a 3D Gaussian blur to the input image array using different blur radii for x, y, and z axes.\n",
    "\n",
    "    Args:\n",
    "        image_array (np.ndarray): The 3D image data as a numpy array.\n",
    "        blur_radius_x (float): Gaussian blur radius along the x-axis.\n",
    "        blur_radius_y (float): Gaussian blur radius along the y-axis.\n",
    "        blur_radius_z (float): Gaussian blur radius along the z-axis.\n",
    "\n",
    "    Returns:\n",
    "        np.ndarray: The blurred image array, clipped to the range [0, 255] and converted to uint8 format.\n",
    "    \"\"\"\n",
    "    blurred = gaussian_filter(image_array, sigma=(blur_radius_z, blur_radius_y, blur_radius_x))\n",
    "    return np.clip(blurred, 0, 255).astype(np.uint8)\n",
    "\n",
    "# Apply 3D Median blur\n",
    "def apply_3d_median_blur(image_array, kernel_size_x, kernel_size_y, kernel_size_z):\n",
    "    \"\"\"\n",
    "    Applies a 3D median blur to the input image array using a specified kernel size for the x, y, and z axes.\n",
    "\n",
    "    Args:\n",
    "        image_array (np.ndarray): The 3D image data as a numpy array.\n",
    "        kernel_size_x (int): The size of the median filter kernel along the x-axis.\n",
    "        kernel_size_y (int): The size of the median filter kernel along the y-axis.\n",
    "        kernel_size_z (int): The size of the median filter kernel along the z-axis.\n",
    "\n",
    "    Returns:\n",
    "        np.ndarray: The blurred image array, clipped to the range [0, 255] and converted to uint8 format.\n",
    "    \"\"\"\n",
    "    blurred = median_filter(image_array, size=(kernel_size_z, kernel_size_y, kernel_size_x))\n",
    "    return np.clip(blurred, 0, 255).astype(np.uint8)\n",
    "\n",
    "# Apply 3D Mean blur\n",
    "def apply_3d_mean_blur(image_array, kernel_size_x, kernel_size_y, kernel_size_z):\n",
    "    \"\"\"\n",
    "    Applies a 3D mean blur to the input image array using a specified kernel size for the x, y, and z axes.\n",
    "\n",
    "    Args:\n",
    "        image_array (np.ndarray): The 3D image data as a numpy array.\n",
    "        kernel_size_x (int): The size of the mean filter kernel along the x-axis.\n",
    "        kernel_size_y (int): The size of the mean filter kernel along the y-axis.\n",
    "        kernel_size_z (int): The size of the mean filter kernel along the z-axis (unused in this function).\n",
    "\n",
    "    Returns:\n",
    "        np.ndarray: The blurred image array, clipped to the range [0, 255] and converted to uint8 format.\n",
    "    \"\"\"\n",
    "    blurred = cv2.blur(image_array, (kernel_size_x, kernel_size_y))\n",
    "    return np.clip(blurred, 0, 255).astype(np.uint8)\n",
    "\n",
    "# Save processed images (frames) as a multi-page TIFF\n",
    "def save_image(frames, output_dir, file_name, suffix):\n",
    "    \"\"\"\n",
    "    Saves a series of frames as a multi-page TIFF file.\n",
    "\n",
    "    Args:\n",
    "        frames (list of PIL.Image): List of PIL Image objects representing individual frames of the 3D image.\n",
    "        output_dir (str): The directory where the output TIFF file will be saved.\n",
    "        file_name (str): The base name of the output file, without extension.\n",
    "        suffix (str): A suffix to append to the file name, indicating the type of blur applied.\n",
    "\n",
    "    Returns:\n",
    "        None\n",
    "    \"\"\"\n",
    "    output_path = os.path.join(output_dir, f\"{file_name}_{suffix}.tif\")\n",
    "    frames[0].save(output_path, save_all=True, append_images=frames[1:])\n",
    "    print(f\"Saved multi-page TIFF: {output_path}\")\n",
    "\n",
    "# Process 3D TIFF file for blurring with enhanced error handling\n",
    "def process_file_blur(file_path, output_dir, blur_type, blur_radius_x=0, blur_radius_y=0, blur_radius_z=0, kernel_size=3):\n",
    "    \"\"\"\n",
    "    Processes a 3D TIFF file by applying a specified blur type (Gaussian, Mean, or Median) and saves the result as a TIFF.\n",
    "\n",
    "    Args:\n",
    "        file_path (str): The path to the input .tif file.\n",
    "        output_dir (str): The directory where the output blurred TIFF will be saved.\n",
    "        blur_type (str): The type of blur to apply (\"Gaussian\", \"Mean\", or \"Median\").\n",
    "        blur_radius_x (float, optional): The blur radius along the x-axis for Gaussian blur. Defaults to 0.\n",
    "        blur_radius_y (float, optional): The blur radius along the y-axis for Gaussian blur. Defaults to 0.\n",
    "        blur_radius_z (float, optional): The blur radius along the z-axis for Gaussian blur. Defaults to 0.\n",
    "        kernel_size (int, optional): The kernel size for Median and Mean blur. Defaults to 3.\n",
    "\n",
    "    Returns:\n",
    "        None\n",
    "    \"\"\"\n",
    "    try:\n",
    "        with Image.open(file_path) as img:\n",
    "            frames = [np.array(frame) for frame in ImageSequence.Iterator(img)]\n",
    "            image_3d_array = np.stack(frames)  # Stack frames into a 3D array (Z, Y, X)\n",
    "            print(f\"Loaded 3D image with shape: {image_3d_array.shape}\")\n",
    "\n",
    "            if blur_type == \"Gaussian\":\n",
    "                blurred_image_3d = apply_3d_gaussian_blur(image_3d_array, blur_radius_x, blur_radius_y, blur_radius_z)\n",
    "            elif blur_type == \"Median\":\n",
    "                blurred_image_3d = apply_3d_median_blur(image_3d_array, kernel_size, kernel_size, kernel_size_z=kernel_size)\n",
    "            elif blur_type == \"Mean\":\n",
    "                blurred_image_3d = apply_3d_mean_blur(image_3d_array, kernel_size, kernel_size, kernel_size)\n",
    "\n",
    "            blurred_frames = [Image.fromarray(blurred_image_3d[i, :, :]) for i in range(blurred_image_3d.shape[0])]\n",
    "            file_name = os.path.splitext(os.path.basename(file_path))[0]\n",
    "            save_image(blurred_frames, output_dir, file_name, f\"{blur_type.lower()}_blur\")\n",
    "\n",
    "    except Exception as e:\n",
    "        print(f\"Error processing file {file_path}: {e}\")\n",
    "\n",
    "# Start blurring function\n",
    "def start_blurring(blur_type, blur_radius_x, blur_radius_y, blur_radius_z, kernel_size):\n",
    "    \"\"\"\n",
    "    Initiates the blurring process based on the selected blur type and parameters.\n",
    "\n",
    "    Args:\n",
    "        blur_type (str): The type of blur to apply (\"Gaussian\", \"Mean\", or \"Median\").\n",
    "        blur_radius_x (float): The blur radius along the x-axis (for Gaussian blur).\n",
    "        blur_radius_y (float): The blur radius along the y-axis (for Gaussian blur).\n",
    "        blur_radius_z (float): The blur radius along the z-axis (for Gaussian blur).\n",
    "        kernel_size (int): The size of the kernel (for Mean and Median blurs).\n",
    "\n",
    "    Returns:\n",
    "        None\n",
    "    \"\"\"\n",
    "    if input_file and output_dir:\n",
    "        process_file_blur(input_file, output_dir, blur_type, blur_radius_x, blur_radius_y, blur_radius_z, kernel_size)\n",
    "        print(\"Blurring completed.\")\n",
    "    else:\n",
    "        print(\"Please select input file and output directory first.\")\n",
    "\n",
    "# Widget for selecting file and directories\n",
    "file_dir_selector = widgets.Button(description=\"Select File and Directory\")\n",
    "file_dir_selector.on_click(lambda x: (select_file(), select_directory()))\n",
    "\n",
    "# Widgets for blurring\n",
    "blur_type_dropdown = widgets.Dropdown(\n",
    "    options=[\"Gaussian\", \"Mean\", \"Median\"],\n",
    "    value=\"Gaussian\",\n",
    "    description=\"Blur Type:\"\n",
    ")\n",
    "\n",
    "blur_x_input = widgets.IntText(value=3, description=\"Blur Radius X\")\n",
    "blur_y_input = widgets.IntText(value=3, description=\"Blur Radius Y\")\n",
    "blur_z_input = widgets.IntText(value=1, description=\"Blur Radius Z\")  # Z-axis control\n",
    "kernel_size_input = widgets.IntText(value=3, description=\"Kernel Size\", layout=widgets.Layout(display='none'))\n",
    "\n",
    "blur_button = widgets.Button(description=\"Start Blurring\")\n",
    "blur_button.on_click(lambda x: start_blurring(\n",
    "    blur_type_dropdown.value,\n",
    "    blur_x_input.value if blur_type_dropdown.value == \"Gaussian\" else 0,\n",
    "    blur_y_input.value if blur_type_dropdown.value == \"Gaussian\" else 0,\n",
    "    blur_z_input.value if blur_type_dropdown.value == \"Gaussian\" else 0,\n",
    "    kernel_size_input.value if blur_type_dropdown.value in [\"Mean\", \"Median\"] else 3\n",
    "))\n",
    "\n",
    "# Function to show/hide kernel size based on blur type\n",
    "def update_kernel_size_visibility(change):\n",
    "    \"\"\"\n",
    "    Updates the visibility of the kernel size input widget based on the selected blur type.\n",
    "\n",
    "    If \"Gaussian\" is selected, the kernel size input is hidden.\n",
    "    If \"Mean\" or \"Median\" is selected, the kernel size input is shown.\n",
    "\n",
    "    Args:\n",
    "        change (dict): Contains information about the dropdown change event.\n",
    "    \"\"\"\n",
    "    if change['new'] == \"Gaussian\":\n",
    "        kernel_size_input.layout.display = 'none'\n",
    "    else:\n",
    "        kernel_size_input.layout.display = 'block'\n",
    "\n",
    "blur_type_dropdown.observe(update_kernel_size_visibility, names='value')\n",
    "\n",
    "# Display widgets\n",
    "display(file_dir_selector, blur_type_dropdown, blur_x_input, blur_y_input, blur_z_input, kernel_size_input, blur_button)"
   ]
  },
  {
   "cell_type": "code",
   "execution_count": 2,
   "id": "89998849",
   "metadata": {},
   "outputs": [
    {
     "data": {
      "application/vnd.jupyter.widget-view+json": {
       "model_id": "2409a9c9e7194d25971c1c95a9b4bb85",
       "version_major": 2,
       "version_minor": 0
      },
      "text/plain": [
       "Button(description='Select File and Directory', style=ButtonStyle())"
      ]
     },
     "metadata": {},
     "output_type": "display_data"
    },
    {
     "data": {
      "application/vnd.jupyter.widget-view+json": {
       "model_id": "fa184bf9a7e44702aeb0cc3942747f27",
       "version_major": 2,
       "version_minor": 0
      },
      "text/plain": [
       "Dropdown(description='Blur Type:', options=('Gaussian', 'Mean', 'Median'), value='Gaussian')"
      ]
     },
     "metadata": {},
     "output_type": "display_data"
    },
    {
     "data": {
      "application/vnd.jupyter.widget-view+json": {
       "model_id": "f271380ae6284aa4969722479245027f",
       "version_major": 2,
       "version_minor": 0
      },
      "text/plain": [
       "IntText(value=3, description='Blur Radius X')"
      ]
     },
     "metadata": {},
     "output_type": "display_data"
    },
    {
     "data": {
      "application/vnd.jupyter.widget-view+json": {
       "model_id": "7273366f0aa94c429bbca8eaf876a285",
       "version_major": 2,
       "version_minor": 0
      },
      "text/plain": [
       "IntText(value=3, description='Blur Radius Y')"
      ]
     },
     "metadata": {},
     "output_type": "display_data"
    },
    {
     "data": {
      "application/vnd.jupyter.widget-view+json": {
       "model_id": "2b0571f910f14c58a636ad7b5b6ae068",
       "version_major": 2,
       "version_minor": 0
      },
      "text/plain": [
       "IntText(value=1, description='Blur Radius Z')"
      ]
     },
     "metadata": {},
     "output_type": "display_data"
    },
    {
     "data": {
      "application/vnd.jupyter.widget-view+json": {
       "model_id": "bd083f2308df45a58fd081736ed81f87",
       "version_major": 2,
       "version_minor": 0
      },
      "text/plain": [
       "IntText(value=3, description='Kernel Size', layout=Layout(display='none'))"
      ]
     },
     "metadata": {},
     "output_type": "display_data"
    },
    {
     "data": {
      "application/vnd.jupyter.widget-view+json": {
       "model_id": "963527e4c0384a009ec8796e847e2a82",
       "version_major": 2,
       "version_minor": 0
      },
      "text/plain": [
       "Button(description='Start Blurring', style=ButtonStyle())"
      ]
     },
     "metadata": {},
     "output_type": "display_data"
    }
   ],
   "source": [
    "import os\n",
    "import cv2\n",
    "import numpy as np\n",
    "from PIL import Image, ImageSequence, UnidentifiedImageError\n",
    "from ipywidgets import widgets\n",
    "from tkinter import Tk, filedialog, messagebox\n",
    "from scipy.ndimage import gaussian_filter, median_filter\n",
    "\n",
    "# Global variables for selected file and directory\n",
    "input_file = None\n",
    "output_dir = None\n",
    "\n",
    "# Function to select a file using tkinter\n",
    "def select_file(prompt=\"Select .tif File\"):\n",
    "    global input_file\n",
    "    if not input_file:  # Select file only if not already selected\n",
    "        root = Tk()\n",
    "        root.withdraw()  # Hide the root window\n",
    "        input_file = filedialog.askopenfilename(title=prompt, filetypes=[(\"TIFF files\", \"*.tif\")])\n",
    "        root.update()\n",
    "    return input_file\n",
    "\n",
    "# Function to select directory using tkinter\n",
    "def select_directory(prompt=\"Select Directory\"):\n",
    "    global output_dir\n",
    "    if not output_dir:  # Select directory only if not already selected\n",
    "        root = Tk()\n",
    "        root.withdraw()  # Hide the root window\n",
    "        output_dir = filedialog.askdirectory(title=prompt)\n",
    "        root.update()\n",
    "    return output_dir\n",
    "\n",
    "# Apply 3D Gaussian blur to a 3D image with different radii for x, y, and z axes\n",
    "def apply_3d_gaussian_blur(image_array, blur_radius_x, blur_radius_y, blur_radius_z):\n",
    "    blurred = gaussian_filter(image_array, sigma=(blur_radius_z, blur_radius_y, blur_radius_x))\n",
    "    return np.clip(blurred, 0, 255).astype(np.uint8)\n",
    "\n",
    "# Apply 3D Median blur\n",
    "def apply_3d_median_blur(image_array, kernel_size_x, kernel_size_y, kernel_size_z):\n",
    "    blurred = median_filter(image_array, size=(kernel_size_z, kernel_size_y, kernel_size_x))\n",
    "    return np.clip(blurred, 0, 255).astype(np.uint8)\n",
    "\n",
    "# Apply 3D Mean blur\n",
    "def apply_3d_mean_blur(image_array, kernel_size_x, kernel_size_y, kernel_size_z):\n",
    "    blurred = cv2.blur(image_array, (kernel_size_x, kernel_size_y))\n",
    "    return np.clip(blurred, 0, 255).astype(np.uint8)\n",
    "\n",
    "# Save processed images (frames) as a multi-page TIFF\n",
    "def save_image(frames, output_dir, file_name, suffix):\n",
    "    output_path = os.path.join(output_dir, f\"{file_name}_{suffix}.tif\")\n",
    "    frames[0].save(output_path, save_all=True, append_images=frames[1:])\n",
    "    print(f\"Saved multi-page TIFF: {output_path}\")\n",
    "\n",
    "# Process 3D TIFF file for blurring with enhanced error handling\n",
    "def process_file_blur(file_path, output_dir, blur_type, blur_radius_x=0, blur_radius_y=0, blur_radius_z=0, kernel_size=3):\n",
    "    try:\n",
    "        with Image.open(file_path) as img:\n",
    "            frames = [np.array(frame) for frame in ImageSequence.Iterator(img)]\n",
    "            image_3d_array = np.stack(frames)  # Stack frames into a 3D array (Z, Y, X)\n",
    "            print(f\"Loaded 3D image with shape: {image_3d_array.shape}\")\n",
    "\n",
    "            if blur_type == \"Gaussian\":\n",
    "                blurred_image_3d = apply_3d_gaussian_blur(image_3d_array, blur_radius_x, blur_radius_y, blur_radius_z)\n",
    "            elif blur_type == \"Median\":\n",
    "                blurred_image_3d = apply_3d_median_blur(image_3d_array, kernel_size, kernel_size, kernel_size_z=kernel_size)\n",
    "            elif blur_type == \"Mean\":\n",
    "                blurred_image_3d = apply_3d_mean_blur(image_3d_array, kernel_size, kernel_size, kernel_size)\n",
    "\n",
    "            blurred_frames = [Image.fromarray(blurred_image_3d[i, :, :]) for i in range(blurred_image_3d.shape[0])]\n",
    "            file_name = os.path.splitext(os.path.basename(file_path))[0]\n",
    "            save_image(blurred_frames, output_dir, file_name, f\"{blur_type.lower()}_blur\")\n",
    "\n",
    "    except Exception as e:\n",
    "        print(f\"Error processing file {file_path}: {e}\")\n",
    "\n",
    "# Start blurring function\n",
    "def start_blurring(blur_type, blur_radius_x, blur_radius_y, blur_radius_z, kernel_size):\n",
    "    if input_file and output_dir:\n",
    "        process_file_blur(input_file, output_dir, blur_type, blur_radius_x, blur_radius_y, blur_radius_z, kernel_size)\n",
    "        print(\"Blurring completed.\")\n",
    "    else:\n",
    "        print(\"Please select input file and output directory first.\")\n",
    "\n",
    "# Widget for selecting file and directories\n",
    "file_dir_selector = widgets.Button(description=\"Select File and Directory\")\n",
    "file_dir_selector.on_click(lambda x: (select_file(), select_directory()))\n",
    "\n",
    "# Widgets for blurring\n",
    "blur_type_dropdown = widgets.Dropdown(\n",
    "    options=[\"Gaussian\", \"Mean\", \"Median\"],\n",
    "    value=\"Gaussian\",\n",
    "    description=\"Blur Type:\"\n",
    ")\n",
    "\n",
    "blur_x_input = widgets.IntText(value=3, description=\"Blur Radius X\")\n",
    "blur_y_input = widgets.IntText(value=3, description=\"Blur Radius Y\")\n",
    "blur_z_input = widgets.IntText(value=1, description=\"Blur Radius Z\")  # Z-axis control\n",
    "kernel_size_input = widgets.IntText(value=3, description=\"Kernel Size\", layout=widgets.Layout(display='none'))\n",
    "\n",
    "blur_button = widgets.Button(description=\"Start Blurring\")\n",
    "blur_button.on_click(lambda x: start_blurring(\n",
    "    blur_type_dropdown.value,\n",
    "    blur_x_input.value if blur_type_dropdown.value == \"Gaussian\" else 0,\n",
    "    blur_y_input.value if blur_type_dropdown.value == \"Gaussian\" else 0,\n",
    "    blur_z_input.value if blur_type_dropdown.value == \"Gaussian\" else 0,\n",
    "    kernel_size_input.value if blur_type_dropdown.value in [\"Mean\", \"Median\"] else 3\n",
    "))\n",
    "\n",
    "# Function to show/hide kernel size based on blur type\n",
    "def update_kernel_size_visibility(change):\n",
    "    if change['new'] == \"Gaussian\":\n",
    "        kernel_size_input.layout.display = 'none'\n",
    "    else:\n",
    "        kernel_size_input.layout.display = 'block'\n",
    "\n",
    "blur_type_dropdown.observe(update_kernel_size_visibility, names='value')\n",
    "\n",
    "# Display widgets\n",
    "display(file_dir_selector, blur_type_dropdown, blur_x_input, blur_y_input, blur_z_input, kernel_size_input, blur_button)"
   ]
  }
 ],
 "metadata": {
  "kernelspec": {
   "display_name": "Python 3 (ipykernel)",
   "language": "python",
   "name": "python3"
  },
  "language_info": {
   "codemirror_mode": {
    "name": "ipython",
    "version": 3
   },
   "file_extension": ".py",
   "mimetype": "text/x-python",
   "name": "python",
   "nbconvert_exporter": "python",
   "pygments_lexer": "ipython3",
   "version": "3.11.5"
  }
 },
 "nbformat": 4,
 "nbformat_minor": 5
}
